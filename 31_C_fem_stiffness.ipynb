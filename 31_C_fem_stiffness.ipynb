{
 "cells": [
  {
   "cell_type": "markdown",
   "metadata": {},
   "source": [
    "## VARIABLES: numerical solution\n",
    "\n",
    "- variable1: liquid volume fraction (alpha_l)\n",
    "- variable2: liquid velocity (u_l)\n",
    "- variable3: gas velocity (u_g)\n",
    "- variable4: interfacial pressure (p_i)"
   ]
  },
  {
   "cell_type": "code",
   "execution_count": 1,
   "metadata": {},
   "outputs": [],
   "source": [
    "# Basic notebooks\n",
    "%run ./codes/00_libraries.ipynb\n",
    "%run ./codes/01_constants_codes.ipynb\n",
    "%run ./codes/02_constants_test_cases.ipynb\n",
    "\n",
    "# Equations\n",
    "%run ./05_C_testcases.ipynb\n",
    "%run ./codes/06_testcases_conditions.ipynb\n",
    "%run ./codes/07_equations_functions.ipynb\n",
    "%run ./codes/08_equations_matrices.ipynb\n",
    "\n",
    "# Stability\n",
    "%run ./codes/10_stability_functions.ipynb\n",
    "%run ./codes/11_reference_conditions.ipynb\n",
    "\n",
    "# Finite-elements\n",
    "# %run ./codes/18_initial_boundary_conditions.ipynb\n",
    "%run ./codes/19_fem_discretization.ipynb\n",
    "%run ./codes/20_variational_form.ipynb\n",
    "\n",
    "# Semi-discrete equations\n",
    "%run ./codes/22_semi_discretized.ipynb"
   ]
  },
  {
   "cell_type": "code",
   "execution_count": null,
   "metadata": {},
   "outputs": [],
   "source": []
  }
 ],
 "metadata": {
  "kernelspec": {
   "display_name": "fenicsproject",
   "language": "python",
   "name": "python3"
  },
  "language_info": {
   "codemirror_mode": {
    "name": "ipython",
    "version": 3
   },
   "file_extension": ".py",
   "mimetype": "text/x-python",
   "name": "python",
   "nbconvert_exporter": "python",
   "pygments_lexer": "ipython3",
   "version": "3.10.4"
  },
  "metadata": {
   "interpreter": {
    "hash": "38da386f580614e4c6a85824bff41beb4ebd8d62055fe5e2510efbe524b5bbb7"
   }
  },
  "vscode": {
   "interpreter": {
    "hash": "f08b6c28c62360a1be9767a5d24832688bd09b1b5f8a643b5ea5d5515c7fee5b"
   }
  }
 },
 "nbformat": 4,
 "nbformat_minor": 4
}
