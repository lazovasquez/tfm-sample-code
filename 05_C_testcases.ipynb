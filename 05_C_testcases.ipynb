{
 "cells": [
  {
   "cell_type": "markdown",
   "metadata": {},
   "source": [
    "## Type of simulation\n",
    "> Choose the equation system, type of simulation or stability analysis and validation data."
   ]
  },
  {
   "cell_type": "code",
   "execution_count": 2,
   "metadata": {},
   "outputs": [],
   "source": [
    "# Simulation\n",
    "simulation = 3 # OPT: 1. differential maps\n",
    "                    # 2. stiffness\n",
    "                    # 3. linear simulation\n",
    "                    # 4. discrete maps\n",
    "                    # 5. nonlinear simulation"
   ]
  },
  {
   "cell_type": "markdown",
   "metadata": {},
   "source": [
    "## Discretization\n",
    "> Spatial discretization"
   ]
  },
  {
   "cell_type": "code",
   "execution_count": 3,
   "metadata": {},
   "outputs": [],
   "source": [
    "# Element function space\n",
    "elementspace = 2 # OPT: 1. CG\n",
    "                        # 2. TH\n",
    "                        # 3. Mini\n",
    "                        # 4. IPDG\n",
    "# Highest order of basis functions.                        \n",
    "p = 2 #If CG (p for all variables), if TH (p for velocities, p-1 for the other variables)   \n",
    "# Number of elements\n",
    "nx = 40"
   ]
  },
  {
   "cell_type": "markdown",
   "metadata": {},
   "source": [
    "> Time discretzation"
   ]
  },
  {
   "cell_type": "code",
   "execution_count": 4,
   "metadata": {},
   "outputs": [],
   "source": [
    "# Time integration scheme\n",
    "time_method = 3 # OPT: 1. BDF1\n",
    "                        # 2. BDF2\n",
    "                        # 3. CN\n",
    "\n",
    "# CFL\n",
    "CFL = 0.22 # OPT: 1.0 Sanderse (consistency check)\n",
    "                    # 0.7 Holmas, \n",
    "                    # 0.978 Van Zwieten, \n",
    "                    # 0.95 Bonzanini, \n",
    "                    # 0.22 Ferrari\n",
    "\n",
    "# Final time method \n",
    "T_simulation = 1 # OPT: 1. T_steps_based, \n",
    "                        # 2. T_input\n",
    "if T_simulation == 1:\n",
    "    num_steps = 5\n",
    "elif T_simulation == 2:\n",
    "    T_in = 5"
   ]
  },
  {
   "cell_type": "markdown",
   "metadata": {},
   "source": [
    "## Cases\n",
    "> Choose test case and inclination angle."
   ]
  },
  {
   "cell_type": "code",
   "execution_count": 5,
   "metadata": {},
   "outputs": [],
   "source": [
    "# Study case \n",
    "case = 2 # OPT: 0. Case 0\n",
    "                # 1. Case 1\n",
    "                # 2. Case 2\n",
    "# Pipe inclination \n",
    "inclination = 1 # OPT: 1. Horizontal\n",
    "                        # 2. Upward straight\n",
    "                        # 3. Downward straight\n",
    "                        # 4. V-section\n"
   ]
  },
  {
   "cell_type": "markdown",
   "metadata": {},
   "source": [
    "## Flow pattern maps\n",
    "> Number of test points and data for validation"
   ]
  },
  {
   "cell_type": "code",
   "execution_count": 6,
   "metadata": {},
   "outputs": [],
   "source": [
    "# Flow pattern maps\n",
    "testpointsj_l = 300\n",
    "validation = 1 # OPT: 1. khinstabilities (Sanderse et al. 2017)\n",
    "                    # 2. experimental (Barnea and Taitel, 1994)\n",
    "                    # 3. linear (Sanderse et al. 2017)\n",
    "                    # 4. nonlinear (Issa and Kempf, 2003)\n",
    "                    # 5. nonlinear (Montini, 2011)"
   ]
  },
  {
   "cell_type": "code",
   "execution_count": null,
   "metadata": {},
   "outputs": [],
   "source": []
  }
 ],
 "metadata": {
  "kernelspec": {
   "display_name": "Python 3.10.4 ('fenicsproject')",
   "language": "python",
   "name": "python3"
  },
  "language_info": {
   "codemirror_mode": {
    "name": "ipython",
    "version": 3
   },
   "file_extension": ".py",
   "mimetype": "text/x-python",
   "name": "python",
   "nbconvert_exporter": "python",
   "pygments_lexer": "ipython3",
   "version": "3.10.4"
  },
  "orig_nbformat": 2,
  "vscode": {
   "interpreter": {
    "hash": "f08b6c28c62360a1be9767a5d24832688bd09b1b5f8a643b5ea5d5515c7fee5b"
   }
  }
 },
 "nbformat": 4,
 "nbformat_minor": 2
}
