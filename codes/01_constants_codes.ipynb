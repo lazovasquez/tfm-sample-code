{
 "cells": [
  {
   "cell_type": "markdown",
   "metadata": {},
   "source": [
    "# Python parameters and functions\n",
    "\n",
    "> Parameters for integration and functions for linearization."
   ]
  },
  {
   "cell_type": "code",
   "execution_count": null,
   "metadata": {},
   "outputs": [],
   "source": [
    "# Brenth interval guess\n",
    "lima = DOLFIN_EPS\n",
    "limb = 1 - lima\n",
    "\n",
    "# Fsolve initial guess\n",
    "x0 = DOLFIN_EPS #0.001\n",
    "\n",
    "# For linearization of sources\n",
    "def gradient (Cmat_element, nvariable):\n",
    "    return dtv (Cmat_element, ref[nvariable - 1])\n",
    "\n",
    "# 3D matrix for fourier analysis\n",
    "def ThreeD (a, b, c): \n",
    "    lst = [[ [[] for col in range (a)] for col in range (b)] for row in range (c)] \n",
    "    return lst"
   ]
  },
  {
   "cell_type": "markdown",
   "metadata": {},
   "source": [
    "# FEniCS parameters and functions\n",
    "\n",
    "> Parameters and functions."
   ]
  },
  {
   "cell_type": "code",
   "execution_count": null,
   "metadata": {},
   "outputs": [],
   "source": [
    "# Form compiler options\n",
    "# parameters ['form_compiler']['representation'] = 'uflacs'\n",
    "# parameters [\"form_compiler\"][\"optimize\"] = True\n",
    "# parameters [\"form_compiler\"][\"cpp_optimize\"] = True\n",
    "# parameters [\"form_compiler\"]['precision'] = 50\n",
    "# parameters [\"form_compiler\"][\"cpp_optimize_flags\"] = \"-O3 -ffast-math -march=native\"\n",
    "# parameters [\"form_compiler\"][\"quadrature_degree\"] = 8\n",
    "# parameters [\"allow_extrapolation\"] = True\n",
    "# parameters [\"refinement_algorithm\"] = \"plaza_with_parent_facets\"\n",
    "# parameters [\"std_out_all_processes\"] = False; # Print log messages only from the root process in parallel\n",
    "\n",
    "# For PETSc options (https://fenicsproject.org/docs/dolfin/1.4.0/python/programmers-reference/cpp/la/SLEPcEigenSolver.html)\n",
    "# PETScOptions.set (\"st_ksp_type\", \"preonly\")\n",
    "# PETScOptions.set (\"st_pc_type\", \"lu\")\n",
    "# PETScOptions.set (\"st_pc_factor_mat_solver_package\", \"mumps\")\n",
    "\n",
    "# For linear and nonlinear solvers\n",
    "# ffc_options = {\"optimize\": True, \\\n",
    "#                \"eliminate_zeros\": True, \\\n",
    "#                \"precompute_basis_const\": True, \\\n",
    "#                \"precompute_ip_const\": True}\n",
    "\n",
    "# Test for PETSc and SLEPc\n",
    "if not has_linear_algebra_backend(\"PETSc\"):\n",
    "    print (\"DOLFIN has not been configured with PETSc. Exiting.\")\n",
    "    exit ()\n",
    "if not has_slepc ():\n",
    "    print (\"DOLFIN has not been configured with SLEPc. Exiting.\")\n",
    "    exit ()\n",
    "\n",
    "# For UFL\n",
    "def Max (a, b): \n",
    "    return (a + b + abs (a - b))/2\n",
    "def Min (a, b): \n",
    "    return (a + b - abs (a - b))/2"
   ]
  },
  {
   "cell_type": "markdown",
   "metadata": {},
   "source": [
    "# Files\n",
    "\n",
    "> Criation of folders and files.\n",
    ">"
   ]
  },
  {
   "cell_type": "code",
   "execution_count": null,
   "metadata": {},
   "outputs": [],
   "source": [
    "# File for boundaries (linear simulations)\n",
    "# file_boundaries = File (\"domain_linear/boundaries.xml\")\n",
    "# # File for boundaries (nonlinear simulations)\n",
    "# file_boundaries = File (\"domain_nonlinear/boundaries.xml\")# # File for nonlinear simulations\n",
    "\n",
    "# File for linear simulations\n",
    "ff_variable1 = File (\"results/fields/fields_linear/variable1.pvd\", \"compressed\")\n",
    "ff_variable2 = File (\"results/fields/fields_linear/variable2.pvd\", \"compressed\")\n",
    "ff_variable3 = File (\"results/fields/fields_linear/variable3.pvd\", \"compressed\")\n",
    "ff_variable4 = File (\"results/fields/fields_linear/variable4.pvd\", \"compressed\")\n",
    "\n",
    "# File for nonlinear simulations\n",
    "ff_variable1_nonlinear = File (\"results/fields/fields_nonlinear/variable1.pvd\", \"compressed\")\n",
    "ff_variable2_nonlinear = File (\"results/fields/fields_nonlinear/variable2.pvd\", \"compressed\")\n",
    "ff_variable3_nonlinear = File (\"results/fields/fields_nonlinear/variable3.pvd\", \"compressed\")\n",
    "ff_variable4_nonlinear = File (\"results/fields/fields_nonlinear/variable4.pvd\", \"compressed\")"
   ]
  },
  {
   "cell_type": "markdown",
   "metadata": {},
   "source": [
    "# Plots\n",
    "\n",
    "> Parameters of plots."
   ]
  },
  {
   "cell_type": "code",
   "execution_count": null,
   "metadata": {},
   "outputs": [],
   "source": [
    "# Characteristics\n",
    "%matplotlib inline\n",
    "liststyles = [\"--\", \"-\", \"-.\", \"--\"]\n",
    "listcolor = [\"k\", \"g\", \"b\", \"r\", \"none\"]\n",
    "listmarkers = [\"s\", \"o\", \"^\", \">\", \"<\", \"p\"]\n",
    "\n",
    "# Font\n",
    "matplotlib.rc({'family': 'Times New Roman'})\n",
    "label_size = 14\n",
    "\n",
    "# Scatter\n",
    "alphascatter = 0.5\n",
    "area_scatter = 25\n",
    "areatestpoints = 100\n",
    "line_width = 1\n",
    "var1linemaps = 0.5\n",
    "\n",
    "# Flow pattern maps\n",
    "mapsize = (10,8)\n",
    "dpi_elsevier = 1200\n",
    "\n",
    "# Stratified wavy flow plot\n",
    "epsplot = 1e-5\n",
    "n_wavy = 100"
   ]
  }
 ],
 "metadata": {
  "kernelspec": {
   "display_name": "Python 3.10.4 ('fenicsproject')",
   "language": "python",
   "name": "python3"
  },
  "language_info": {
   "codemirror_mode": {
    "name": "ipython",
    "version": 3
   },
   "file_extension": ".py",
   "mimetype": "text/x-python",
   "name": "python",
   "nbconvert_exporter": "python",
   "pygments_lexer": "ipython3",
   "version": "3.10.4"
  },
  "metadata": {
   "interpreter": {
    "hash": "38da386f580614e4c6a85824bff41beb4ebd8d62055fe5e2510efbe524b5bbb7"
   }
  },
  "orig_nbformat": 2,
  "vscode": {
   "interpreter": {
    "hash": "f08b6c28c62360a1be9767a5d24832688bd09b1b5f8a643b5ea5d5515c7fee5b"
   }
  }
 },
 "nbformat": 4,
 "nbformat_minor": 2
}
