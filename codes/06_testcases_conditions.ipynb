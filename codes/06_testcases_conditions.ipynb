{
 "cells": [
  {
   "cell_type": "markdown",
   "metadata": {},
   "source": [
    "> Simulation"
   ]
  },
  {
   "cell_type": "code",
   "execution_count": null,
   "metadata": {},
   "outputs": [],
   "source": [
    "if simulation == 2:\n",
    "    discretization = 1\n",
    "elif any ([simulation == 3, simulation == 4, simulation == 5]):\n",
    "    discretization = 2"
   ]
  },
  {
   "cell_type": "markdown",
   "metadata": {},
   "source": [
    "> Geometry"
   ]
  },
  {
   "cell_type": "code",
   "execution_count": null,
   "metadata": {},
   "outputs": [],
   "source": [
    "# Inclination\n",
    "betavector = np.deg2rad(betavectordeg)\n",
    "\n",
    "# Condition inclination\n",
    "if inclination == 1:\n",
    "    beta = betavector[0]\n",
    "elif inclination == 2:\n",
    "    beta = betavector[1]\n",
    "elif inclination == 3:\n",
    "    beta = betavector[2]\n",
    "elif inclination == 4:\n",
    "    beta_1 = np.deg2rad (-1.5)\n",
    "    beta_2 = np.deg2rad (1.5)\n",
    "    # beta_1 = Constant (beta_1)\n",
    "    # beta_2 = Constant (beta_2)\n",
    "    # beta_fenics = Expression (\"x[0] < l/2 ? beta_1 : beta_2\", degee = 1)\n",
    "    # print(\"WARNING : is l = 14m + 23m ? according to Issa (2003)\")\n",
    "\n",
    "if show_data == 1:\n",
    "    print (\"Inclination = \", inclination)"
   ]
  },
  {
   "cell_type": "markdown",
   "metadata": {},
   "source": [
    "> Flow pattern maps"
   ]
  },
  {
   "cell_type": "code",
   "execution_count": null,
   "metadata": {},
   "outputs": [],
   "source": [
    "# Test points \n",
    "testpointsj_g = testpointsj_l"
   ]
  },
  {
   "cell_type": "markdown",
   "metadata": {},
   "source": [
    "> Equations"
   ]
  },
  {
   "cell_type": "code",
   "execution_count": null,
   "metadata": {},
   "outputs": [],
   "source": [
    "# Body force\n",
    "if dirichlet_type == 2: \n",
    "    Fbody = 0\n",
    "elif dirichlet_type == 1: \n",
    "    Fbody = 74.225\n",
    "    print(\"WARNING : is beta = 0? (to Sanderse, et al., 2017)\")\n",
    "\n",
    "# Effect of linear and nonlinear waves\n",
    "if effect == 1:\n",
    "    waves_effect = 1\n",
    "elif effect == 2:\n",
    "    waves_effect = 1e4\n",
    "\n",
    "# Effect of viscosity\n",
    "if viscous_terms == 1:\n",
    "    visc = 1\n",
    "elif viscous_terms == 2:\n",
    "    visc = 0"
   ]
  },
  {
   "cell_type": "markdown",
   "metadata": {},
   "source": [
    "> Cases"
   ]
  },
  {
   "cell_type": "code",
   "execution_count": null,
   "metadata": {},
   "outputs": [],
   "source": [
    "if case == 0:\n",
    "    j_l = j_lcases [0]\n",
    "    j_g = j_gcases [0]\n",
    "    L = L_cases [0]\n",
    "    # reference = 'sanderse'\n",
    "    description_case = \"horizontal stable (Sanderse et al., 2017)\"\n",
    "elif case == 1:\n",
    "    j_l = j_lcases [1]\n",
    "    j_g = j_gcases [1]\n",
    "    L = L_cases [1]\n",
    "    # reference = 'sanderse'\n",
    "    description_case =  \"horizontal unstable (Sanderse et al., 2017)\"\n",
    "elif case == 2:\n",
    "    j_l = j_lcases [2]\n",
    "    j_g = j_gcases [2]\n",
    "    L = L_cases [2]\n",
    "    # reference = 'sanderse'\n",
    "    description_case = \"horizontal ill-posed (Sanderse et al., 2017)\"\n",
    "elif case == 3:\n",
    "    j_l = j_lcases [3]\n",
    "    j_g = j_gcases [3]\n",
    "    L = L_cases [3]\n",
    "    # reference = 'sanderse'\n",
    "    description_case = \"horizontal case B (Sanderse et al., 2017)\"\n",
    "elif case == 4:\n",
    "    j_l = j_lcases [4]\n",
    "    j_g = j_gcases [4]\n",
    "    L = L_cases [4]\n",
    "    # reference = 'sanderse'\n",
    "    description_case = \"horizontal case C (Sanderse et al., 2017)\"\n",
    "elif case == 5:\n",
    "    # print (\"INFO: sanderse case D.\")\n",
    "    j_l = j_lcases [5]\n",
    "    j_g = j_gcases [5]\n",
    "    L = L_cases [5]\n",
    "    # reference = 'sanderse'\n",
    "    description_case = \"horizontal case D (Sanderse et al., 2017)\"\n",
    "elif case == 6:\n",
    "    # print (\"INFO: sanderse wave growth.\")\n",
    "    j_l = j_lcases [6]\n",
    "    j_g = j_gcases [6]\n",
    "    L = L_cases [6]\n",
    "    # reference = 'sanderse'\n",
    "    description_case = \"horizontal wave growth case (Sanderse et al., 2017)\"\n",
    "elif case == 7:\n",
    "    j_l = j_lcases [7]\n",
    "    j_g = j_gcases [7]\n",
    "    L = L_cases [7]\n",
    "    # reference = 'ferrari'\n",
    "    description_case = \"horizontal case 1 (Ferrari, 2017)\"\n",
    "elif case == 8:\n",
    "    # print (\"INFO: slug flow Ferrari 2.\")\n",
    "    j_l = j_lcases [8]\n",
    "    j_g = j_gcases [8]\n",
    "    L = L_cases [8]\n",
    "    # reference = 'ferrari'\n",
    "    description_case = \"horizontal case 2 (Ferrari, 2017)\"\n",
    "elif case == 9:\n",
    "    # print (\"INFO: Montini well-posed.\")\n",
    "    j_l = j_lcases [9]\n",
    "    j_g = j_gcases [9]\n",
    "    L = L_cases [9]\n",
    "    # reference = 'montini'\n",
    "    description_case = \"horizontal well-posed (Montini, 2011)\"\n",
    "elif case == 10:\n",
    "    # print (\"INFO: case ill-posed (Montini, 2011) \")\n",
    "    j_l = j_lcases [10]\n",
    "    j_g = j_gcases [10]\n",
    "    L = L_cases [10]\n",
    "    # reference = 'montini'\n",
    "    description_case = \"horizontal ill-posed (Montini, 2011)\"\n",
    "\n",
    "if show_data == 1:\n",
    "    print (\"INFO:\", case, description_case)"
   ]
  },
  {
   "cell_type": "markdown",
   "metadata": {},
   "source": [
    "> Time discretization"
   ]
  },
  {
   "cell_type": "code",
   "execution_count": null,
   "metadata": {},
   "outputs": [],
   "source": [
    "# Time discretization\n",
    "if time_method == 1:\n",
    "    a0 = 1.0\n",
    "    a1 = -1.0\n",
    "    a2 = 0.0\n",
    "    theta = 1.0\n",
    "    description_time = 'INFO: BDF1 first-order Backward differentiation formula.'\n",
    "elif time_method == 2:\n",
    "    a0 = 3/2\n",
    "    a1 = -2.0\n",
    "    a2 = 1/2\n",
    "    theta = 1.0\n",
    "    step_bdf2 = \"first\"\n",
    "    description_time = 'INFO: BDF2 second-order Backward differentiation formula.'\n",
    "elif time_method == 3:\n",
    "    a0 = 1.0\n",
    "    a1 = -1.0\n",
    "    a2 = 0.0\n",
    "    theta = 0.50\n",
    "    description_time = 'INFO: CN Crank-Nicolson/trapezoidal.'\n",
    "\n",
    "if show_data == 1:\n",
    "    print (\"INFO:\", time_method, description_time) "
   ]
  },
  {
   "cell_type": "markdown",
   "metadata": {},
   "source": [
    "# Validation\n",
    "> Flow pattern maps"
   ]
  },
  {
   "cell_type": "code",
   "execution_count": null,
   "metadata": {},
   "outputs": [],
   "source": [
    "# Diameter\n",
    "if validation == 1:\n",
    "    D = D_vector[1]\n",
    "    description_validation = \"KH instabilities based (Sanderse et al., 2017)\"\n",
    "if validation == 2:\n",
    "    D = D_vector[0]\n",
    "    description_validation = \"Experimental data (several authors)\"\n",
    "\n",
    "if show_data == 1:\n",
    "    print (\"Diameter = \", D)\n",
    "    print (\"Validation = \", description_validation)"
   ]
  },
  {
   "cell_type": "code",
   "execution_count": null,
   "metadata": {},
   "outputs": [],
   "source": [
    "# if all ([D == D_vector[0], any ([beta == 0, beta == 0.25, beta == -5])]):\n",
    "#     print (\"INFO: validation Barnea, Shoham and Taitel (1981)\")\n",
    "# elif all ([D == D_vector[1], any ([beta == 0])]):\n",
    "#     print (\"INFO: validation Sanderse et al. (2017)\")"
   ]
  }
 ],
 "metadata": {
  "kernelspec": {
   "display_name": "Python 3.10.4 ('fenicsproject')",
   "language": "python",
   "name": "python3"
  },
  "language_info": {
   "codemirror_mode": {
    "name": "ipython",
    "version": 3
   },
   "file_extension": ".py",
   "mimetype": "text/x-python",
   "name": "python",
   "nbconvert_exporter": "python",
   "pygments_lexer": "ipython3",
   "version": "3.10.4"
  },
  "orig_nbformat": 4,
  "vscode": {
   "interpreter": {
    "hash": "f08b6c28c62360a1be9767a5d24832688bd09b1b5f8a643b5ea5d5515c7fee5b"
   }
  }
 },
 "nbformat": 4,
 "nbformat_minor": 2
}
