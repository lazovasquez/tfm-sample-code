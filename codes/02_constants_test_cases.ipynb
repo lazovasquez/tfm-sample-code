{
 "cells": [
  {
   "cell_type": "markdown",
   "metadata": {},
   "source": [
    "# _Contents_\n"
   ]
  },
  {
   "cell_type": "markdown",
   "metadata": {},
   "source": [
    "## Equations\n",
    "> Equation systems and terms"
   ]
  },
  {
   "cell_type": "code",
   "execution_count": null,
   "metadata": {},
   "outputs": [],
   "source": [
    "# Equation system \n",
    "system = 2 # OPT: 1 (primitive variables with A != I), \n",
    "                    # 2 (primitive variables with A = I), \n",
    "                    # 3 (conserved variables)\n",
    "                    \n",
    "# Viscous effects\n",
    "viscous_terms = 1 # OPT: 1. viscous, \n",
    "                        # 2. inviscid\n",
    "\n",
    "# Boundary conditions\n",
    "dirichlet_type = 2 # OPT: 1. periodic, \n",
    "                        # 2. nonperiodic\n",
    "\n",
    "# Initial conditions\n",
    "IBVP = 1 # OPT: 1. SS (stratified smooth), \n",
    "                # 2. SS_perturbed (stratified wavy)\n",
    "effect = 1 # OPT: 1. linear, \n",
    "                # 2. nonlinear\n",
    "\n",
    "# Plot reference conditions\n",
    "show_data = 2 # OPT: 1. show_data, \n",
    "                    # 2. no_show_data (for discrete flow pattern maps)"
   ]
  },
  {
   "cell_type": "markdown",
   "metadata": {},
   "source": [
    "## Constant parameters\n",
    "\n",
    "> Constants."
   ]
  },
  {
   "cell_type": "code",
   "execution_count": null,
   "metadata": {},
   "outputs": [],
   "source": [
    "# Phasic properties\n",
    "rho_l = 1000 # kg m^-3, liquid density (Montini)\n",
    "mu_l = 8.9e-4 # Pa s, liquid viscosity\n",
    "mu_g = 1.8e-5 # Pa s, gas viscosity# Phase properties\n",
    "c_g = 293.43 # OPT: 0.1*293.43,\n",
    "                    # 293.43, \n",
    "                    # 10*293.43 (Sanderse, et al., 2017)\n",
    "var4_0 = 1e5 # Pa, outlet pressure (equilibrium state)\n",
    "g = 9.8 # Gravity"
   ]
  },
  {
   "cell_type": "markdown",
   "metadata": {},
   "source": [
    "## Flow properties\n",
    "> Cases for simulation"
   ]
  },
  {
   "cell_type": "code",
   "execution_count": null,
   "metadata": {},
   "outputs": [],
   "source": [
    "# Inclination angle\n",
    "betavectordeg = np.array ([0,0.25, -5])\n",
    "\n",
    "# Horizontal - Initial conditions\n",
    "j_lcases = np.array ([0.05, \n",
    "                      0.5, \n",
    "                      0.74529647, \n",
    "                      0.07, \n",
    "                      0.015, \n",
    "                      0.033, \n",
    "                      0.15, \n",
    "                      0.6, \n",
    "                      1.5, \n",
    "                      0.4, \n",
    "                      0.532])\n",
    "\n",
    "j_gcases = np.array ([0.829, \n",
    "                      6.908, \n",
    "                      10.0, \n",
    "                      21.16, \n",
    "                      0.23, \n",
    "                      13.28, \n",
    "                      10, \n",
    "                      3., \n",
    "                      2.0, \n",
    "                      3., \n",
    "                      6.532])\n",
    "\n",
    "L_cases = np.array ([1, \n",
    "                     1, \n",
    "                     1, \n",
    "                     1, \n",
    "                     1, \n",
    "                     1, \n",
    "                     1, \n",
    "                     36., \n",
    "                     36., \n",
    "                     5, \n",
    "                     5])\n",
    "\n",
    "D_vector = np.array ([0.051, \n",
    "                      0.078])"
   ]
  },
  {
   "cell_type": "markdown",
   "metadata": {},
   "source": [
    "> Flow pattern maps scatter"
   ]
  },
  {
   "cell_type": "code",
   "execution_count": null,
   "metadata": {},
   "outputs": [],
   "source": [
    "# Horizontal\n",
    "j_lscatter = [j_lcases[0], j_lcases[1], j_lcases[2]]\n",
    "j_gscatter = [j_gcases[0], j_gcases[1], j_gcases[2]]"
   ]
  },
  {
   "cell_type": "markdown",
   "metadata": {},
   "source": [
    "## Flow pattern maps\n",
    "\n",
    "> Limits and test points."
   ]
  },
  {
   "cell_type": "code",
   "execution_count": null,
   "metadata": {},
   "outputs": [],
   "source": [
    "# Flow pattern maps properties\n",
    "minj_l = 1e-2 \n",
    "maxj_l = 5 \n",
    "minj_g = 2e-1\n",
    "maxj_g = 30"
   ]
  },
  {
   "cell_type": "markdown",
   "metadata": {},
   "source": [
    "## Dispersion maps\n",
    "> Constants, limits and test points."
   ]
  },
  {
   "cell_type": "code",
   "execution_count": null,
   "metadata": {},
   "outputs": [],
   "source": [
    "# Fourier analysis\n",
    "wavenumber_fourier = 2*pi\n",
    "\n",
    "# Dispersion analysis\n",
    "epstest = DOLFIN_EPS/1e250\n",
    "minlambda = 1e-1\n",
    "maxlambda = 1e2\n",
    "testpointsdispersion = 1000\n",
    "steplambda = (maxlambda - epstest)/30 # for ticks in local stability analysis\n",
    "limitlog = 1e-6\n",
    "\n",
    "# Omega for dispersion analysis\n",
    "inf_omega = -1e3\n",
    "sup_omega = 1e5\n",
    "inf_lambda = minlambda\n",
    "sup_lambda = maxlambda"
   ]
  },
  {
   "cell_type": "markdown",
   "metadata": {},
   "source": [
    "## Stiffness\n",
    ">Vectors for parametric analysis"
   ]
  },
  {
   "cell_type": "code",
   "execution_count": null,
   "metadata": {},
   "outputs": [],
   "source": [
    "# # Case I - Finite elements\n",
    "# caseI_vector = [\"CG_elements\", \"TaylorHood\"]\n",
    "\n",
    "# # Case II - Superficial velocities\n",
    "# caseII_vector_sl = [0.05, 0.829]\n",
    "# caseII_vector_sg = [0.50, 6.908]\n",
    "\n",
    "# # Case III - Upward flows\n",
    "# caseIII_vector = [0, 0.25]\n",
    "\n",
    "# # Case IV - Downward flows\n",
    "# caseIV_vector = [0, -5]\n",
    "\n",
    "# # Case V - Mesh size\n",
    "# caseV_vector = [40, 160]\n",
    "\n",
    "# # Case VI - Highest order of basis function\n",
    "# caseVI_vector = [2, 4]\n",
    "\n",
    "# # Case VII - Compressibility effects\n",
    "# caseVII_vector = [c_g*0.1, c_g*10]"
   ]
  },
  {
   "cell_type": "markdown",
   "metadata": {},
   "source": [
    "## Regularization\n",
    "> Numerical diffusion "
   ]
  },
  {
   "cell_type": "code",
   "execution_count": null,
   "metadata": {},
   "outputs": [],
   "source": [
    "# Regularization with numerical difussion\n",
    "# Gamma_lvector = np.array (  [[0, 1E-4, 1e-1], \n",
    "#                             [0, 1E-4, 1e-1], \n",
    "#                             [0, 0, 0]])\n",
    "# nu_lvector = np.array ( [[0, 1e-10, 1e-1], \n",
    "#                         [0, 1E-10, 1e-1],\n",
    "#                         [0, 0, 0]])\n",
    "# Gamma_gvector = Gamma_lvector\n",
    "# nu_gvector = nu_lvector"
   ]
  },
  {
   "cell_type": "markdown",
   "metadata": {},
   "source": [
    "## Spatial discretization\n",
    "> Constants"
   ]
  },
  {
   "cell_type": "code",
   "execution_count": null,
   "metadata": {},
   "outputs": [],
   "source": [
    "penalty1 = 4\n",
    "penalty2 = 8"
   ]
  },
  {
   "cell_type": "markdown",
   "metadata": {},
   "source": [
    "## Time discretization\n",
    "> Constants"
   ]
  },
  {
   "cell_type": "code",
   "execution_count": null,
   "metadata": {},
   "outputs": [],
   "source": [
    "# Velocity for CFL \n",
    "CFL_velocity = 4 # OPT: 1. liquid, \n",
    "                        # 2. gas, \n",
    "                        # 3. max_velocity, \n",
    "                        # 4. max_characteristic\n",
    "\n",
    "# Transient simulations\n",
    "transient_eigenspectrum = 1 # OPTIONS: 1. Show transient eigenspectrum, \n",
    "                                        # 2. No transient eigenspectrum"
   ]
  }
 ],
 "metadata": {
  "kernelspec": {
   "display_name": "Python 3.10.4 ('fenicsproject')",
   "language": "python",
   "name": "python3"
  },
  "language_info": {
   "codemirror_mode": {
    "name": "ipython",
    "version": 3
   },
   "file_extension": ".py",
   "mimetype": "text/x-python",
   "name": "python",
   "nbconvert_exporter": "python",
   "pygments_lexer": "ipython3",
   "version": "3.10.4"
  },
  "metadata": {
   "interpreter": {
    "hash": "38da386f580614e4c6a85824bff41beb4ebd8d62055fe5e2510efbe524b5bbb7"
   }
  },
  "orig_nbformat": 2,
  "vscode": {
   "interpreter": {
    "hash": "f08b6c28c62360a1be9767a5d24832688bd09b1b5f8a643b5ea5d5515c7fee5b"
   }
  }
 },
 "nbformat": 4,
 "nbformat_minor": 2
}
