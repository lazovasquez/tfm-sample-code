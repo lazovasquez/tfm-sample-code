{
 "cells": [
  {
   "cell_type": "markdown",
   "metadata": {},
   "source": [
    "### Transient linear simulations solver"
   ]
  },
  {
   "cell_type": "code",
   "execution_count": null,
   "metadata": {},
   "outputs": [],
   "source": [
    "# transientsolver = solver_linear (R_input, variable_input, bcs_input, dF_input)\n",
    "\n",
    "def solver_linear (R_input, variable_input, bcs_input, dF_input): # ,form_compiler_parameters_input):\n",
    "    problem = NonlinearVariationalProblem (R_input, variable_input, bcs = bcs_input, J = dF_input)#, form_compiler_parameters = form_compiler_parameters_input)\n",
    "\n",
    "    transientsolver = NonlinearVariationalSolver (problem)\n",
    "\n",
    "    prm = transientsolver.parameters\n",
    "    # info (prm, True)\n",
    "\n",
    "    # Nonlinear solver\n",
    "    prm ['nonlinear_solver'] = 'newton'\n",
    "    # prm ['print_matrix'] = False #True\n",
    "    # prm ['print_rhs'] = False #True\n",
    "    # prm ['symmetric'] = False #True\n",
    "\n",
    "    # Linear solver\n",
    "    # prm ['newton_solver']['absolute_tolerance'] = 1e-1 #1E-8\n",
    "    # prm ['newton_solver']['convergence_criterion'] = 'residual' #'residual' 'incremental'\n",
    "    # prm ['newton_solver']['error_on_nonconvergence'] = True\n",
    "    prm ['newton_solver']['linear_solver'] = 'umfpack' # 'bicgstab' 'cg' 'gmres' 'minres' 'petsc' 'richardson' 'superlu_dist' 'tfqmr' 'umfpack'\n",
    "    # prm ['newton_solver']['maximum_iterations'] = 10000\n",
    "    # prm ['newton_solver']['preconditioner'] = 'ilu' # 'ilu' 'icc' 'petsc_amg' 'sor'\n",
    "    # prm ['newton_solver']['relative_tolerance'] = 1e-1\n",
    "    # prm ['newton_solver']['relaxation_parameter'] = 1.0\n",
    "    # prm ['newton_solver']['report'] = True\n",
    "\n",
    "    # Krylov solver\n",
    "    # prm ['newton_solver']['krylov_solver']['absolute_tolerance'] = 1e-3 #1E-9\n",
    "    # #     prm ['newton_solver']['krylov_solver']['error_on_nonconvergence'] = True\n",
    "    # prm ['newton_solver']['krylov_solver']['maximum_iterations'] = 10000 # 500000\n",
    "    # prm ['newton_solver']['krylov_solver'][\"monitor_convergence\"] = True\n",
    "    # prm ['newton_solver']['krylov_solver'][\"nonzero_initial_guess\"] = True #False\n",
    "    # prm ['newton_solver']['krylov_solver']['relative_tolerance'] = 1e-3\n",
    "    # prm ['newton_solver']['krylov_solver']['report'] = True\n",
    "        \n",
    "    # LU solver\n",
    "    # prm ['newton_solver']['lu_solver']['report'] = True\n",
    "    # prm ['newton_solver']['lu_solver']['symmetric'] = False\n",
    "    # prm ['newton_solver']['lu_solver']['verbose'] = True\n",
    "\n",
    "    return transientsolver"
   ]
  },
  {
   "cell_type": "markdown",
   "metadata": {},
   "source": [
    "### Transient Nonlinear simulations solver"
   ]
  },
  {
   "cell_type": "code",
   "execution_count": null,
   "metadata": {},
   "outputs": [],
   "source": [
    "def solver_nonlinear (R_input, variable_input, bcs_input, dF_input, form_compiler_parameters_input):\n",
    "    problem = NonlinearVariationalProblem (R_input, variable_input, bcs = bcs_input, J = dF_input)#, form_compiler_parameters = form_compiler_parameters_input)\n",
    "\n",
    "    transientsolver = NonlinearVariationalSolver (problem)\n",
    "    prm = transientsolver.parameters\n",
    "    # info (prm, True)\n",
    "\n",
    "    # Nonlinear solver\n",
    "    prm ['nonlinear_solver'] = 'newton'\n",
    "    # prm ['print_matrix'] = False #True\n",
    "    # prm ['print_rhs'] = False #True\n",
    "    # prm ['symmetric'] = False #True\n",
    "\n",
    "    # Linear solver\n",
    "    # prm ['newton_solver']['absolute_tolerance'] = 1e-1 #1E-8\n",
    "    # prm ['newton_solver']['convergence_criterion'] = 'residual' #'residual' 'incremental'\n",
    "    # prm ['newton_solver']['error_on_nonconvergence'] = True\n",
    "    prm ['newton_solver']['linear_solver'] = 'umfpack' # 'bicgstab' 'cg' 'gmres' 'minres' 'petsc' 'richardson' 'superlu_dist' 'tfqmr' 'umfpack'\n",
    "    # prm ['newton_solver']['maximum_iterations'] = 10000\n",
    "    # prm ['newton_solver']['preconditioner'] = 'ilu' # 'ilu' 'icc' 'petsc_amg' 'sor'\n",
    "    # prm ['newton_solver']['relative_tolerance'] = 1e-1\n",
    "    # prm ['newton_solver']['relaxation_parameter'] = 1.0\n",
    "    # prm ['newton_solver']['report'] = True\n",
    "\n",
    "    # Krylov solver\n",
    "    # prm ['newton_solver']['krylov_solver']['absolute_tolerance'] = 1e-3 #1E-9\n",
    "    # #     prm ['newton_solver']['krylov_solver']['error_on_nonconvergence'] = True\n",
    "    # prm ['newton_solver']['krylov_solver']['maximum_iterations'] = 10000 # 500000\n",
    "    # prm ['newton_solver']['krylov_solver'][\"monitor_convergence\"] = True\n",
    "    # prm ['newton_solver']['krylov_solver'][\"nonzero_initial_guess\"] = True #False\n",
    "    # prm ['newton_solver']['krylov_solver']['relative_tolerance'] = 1e-3\n",
    "    # prm ['newton_solver']['krylov_solver']['report'] = True\n",
    "        \n",
    "    # LU solver\n",
    "    # prm ['newton_solver']['lu_solver']['report'] = True\n",
    "    # prm ['newton_solver']['lu_solver']['symmetric'] = False\n",
    "    # prm ['newton_solver']['lu_solver']['verbose'] = True\n",
    "\n",
    "    return prm ['nonlinear_solver'], prm ['newton_solver']['linear_solver']  "
   ]
  }
 ],
 "metadata": {
  "kernelspec": {
   "display_name": "Python 3.10.4 ('fenicsproject')",
   "language": "python",
   "name": "python3"
  },
  "language_info": {
   "codemirror_mode": {
    "name": "ipython",
    "version": 3
   },
   "file_extension": ".py",
   "mimetype": "text/x-python",
   "name": "python",
   "nbconvert_exporter": "python",
   "pygments_lexer": "ipython3",
   "version": "3.10.4"
  },
  "orig_nbformat": 4,
  "vscode": {
   "interpreter": {
    "hash": "f08b6c28c62360a1be9767a5d24832688bd09b1b5f8a643b5ea5d5515c7fee5b"
   }
  }
 },
 "nbformat": 4,
 "nbformat_minor": 2
}
