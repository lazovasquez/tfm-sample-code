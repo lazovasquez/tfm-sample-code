{
 "cells": [
  {
   "cell_type": "markdown",
   "metadata": {},
   "source": [
    "# Characteristics"
   ]
  },
  {
   "cell_type": "code",
   "execution_count": null,
   "metadata": {},
   "outputs": [],
   "source": [
    "def characteristics_function (Aeval, Beval):\n",
    "    m1, _ = eig (Beval, b = Aeval, overwrite_a = True, overwrite_b = True, check_finite = True)\n",
    "\n",
    "    listreal1 = []\n",
    "    listimag1 = []\n",
    "\n",
    "    for l1 in range (len (m1)):\n",
    "        realpart1 = m1 [l1].real\n",
    "        imagpart1 = m1 [l1].imag\n",
    "        \n",
    "        listimag1.append (imagpart1)\n",
    "        listreal1.append (realpart1)\n",
    "\n",
    "    maxchar = max (listreal1)\n",
    "\n",
    "    return listreal1, listimag1, maxchar"
   ]
  },
  {
   "cell_type": "markdown",
   "metadata": {},
   "source": [
    "# Amplification factors and eigenvectors\n",
    "> Matrices A,B,C"
   ]
  },
  {
   "cell_type": "code",
   "execution_count": null,
   "metadata": {},
   "outputs": [],
   "source": [
    "def stability_function (Aeval, Beval, Ceval):\n",
    "    Acomplex   = Aeval.dot (1j)\n",
    "    Bcomplex   = Beval.dot (1j)\n",
    "\n",
    "    m2, vect2 = eig ( (-wavenumber_fourier*Bcomplex - Ceval), b =  -Acomplex, overwrite_a = True, overwrite_b = True, check_finite = True)\n",
    "\n",
    "    listreal2 = []\n",
    "    listimag2 = []\n",
    "\n",
    "    for l2 in range (len (m2)):\n",
    "        realpart2 = m2 [l2].real                \n",
    "        imagpart2 = m2 [l2].imag\n",
    "        \n",
    "        listimag2.append (imagpart2)\n",
    "        listreal2.append (realpart2)\n",
    "\n",
    "    return listreal2, listimag2, m2, vect2\n"
   ]
  },
  {
   "cell_type": "markdown",
   "metadata": {},
   "source": [
    "> Matrix A"
   ]
  },
  {
   "cell_type": "code",
   "execution_count": null,
   "metadata": {},
   "outputs": [],
   "source": [
    "def stability_function_A (Aeval):\n",
    "    m2, _ = eig ( Aeval, check_finite = True)\n",
    "\n",
    "    listreal2 = []\n",
    "    listimag2 = []\n",
    "\n",
    "    for l2 in range (len (m2)):\n",
    "        realpart2 = m2 [l2].real                \n",
    "        imagpart2 = m2 [l2].imag\n",
    "        \n",
    "        listimag2.append (imagpart2)\n",
    "        listreal2.append (realpart2)\n",
    "\n",
    "    return listreal2, listimag2\n"
   ]
  },
  {
   "cell_type": "markdown",
   "metadata": {},
   "source": [
    "# Stiffness\n",
    "> Solver"
   ]
  },
  {
   "cell_type": "code",
   "execution_count": null,
   "metadata": {},
   "outputs": [],
   "source": [
    "def solver_stiffness (matrix):\n",
    "    eigensolver = SLEPcEigenSolver (matrix) #(A, B)\n",
    "    # PETScOptions.set (\"eps_view\")\n",
    "    eigensolver.parameters[\"solver\"] = \"subspace\" # OPTIONS: “power” (power iteration) \n",
    "                                                        # “subspace” (subspace iteration) \n",
    "                                                        # “arnoldi” (Arnoldi) “lanczos” (Lanczos) \n",
    "                                                        # “krylov-schur” (Krylov-Schur) \n",
    "                                                        # “lapack” (LAPACK, all values, direct, small systems only) \n",
    "                                                        # “arpack” (ARPACK)\n",
    "    eigensolver.parameters[\"problem_type\"] = \"non_hermitian\" # OPTIONS: “hermitian” (Hermitian) \n",
    "                                                                # “non_hermitian” (Non-Hermitian) \n",
    "                                                                # “gen_hermitian” (Generalized Hermitian) \n",
    "                                                                # “gen_non_hermitian” (Generalized Non-Hermitian) \n",
    "                                                                # “pos_gen_non_hermitian” (Generalized Non-Hermitian with positive semidefinite B)\n",
    "    # eigensolver.parameters[\"maximum_iterations\"] = 1000 # OPTIONS: \n",
    "    # eigensolver.parameters[\"tolerance\"] = 1e-15 # The default is 1e-15;\n",
    "    # eigensolver.parameters[\"spectrum\"] = \"target magnitude\" # OPTIONS: \"target magnitude\", \"largest magnitude\"\n",
    "    # eigensolver.parameters[\"spectral_transform\"] = \"shift-and-invert\" # OPTIONS: \"shift-and-invert\"\n",
    "    # eigensolver.parameters[\"spectral_shift\"] = 0.9\n",
    "    # neigs = 12\n",
    "\n",
    "    # Compute all eigenvalues of A x = \\lambda x\n",
    "    eigensolver.solve () #(neigs)\n",
    "\n",
    "    #Exporting the real part of the eigenvectors and plotting eigenvalues\n",
    "    Real = []\n",
    "    Imag = []\n",
    "\n",
    "    for i in range (eigensolver.get_number_converged ()):\n",
    "        r, c, _, _ = eigensolver.get_eigenpair (i)\n",
    "\n",
    "        # Real part of eigenvalues\n",
    "        Real.append (r)\n",
    "        Imag.append (c)\n",
    "\n",
    "    return Real, Imag"
   ]
  },
  {
   "cell_type": "markdown",
   "metadata": {},
   "source": [
    "> Function"
   ]
  },
  {
   "cell_type": "code",
   "execution_count": null,
   "metadata": {},
   "outputs": [],
   "source": [
    "def stiffness_function (Bm, visc, Cm, variable, dvariable):\n",
    "        # Variational form\n",
    "        R = Bm + Cm\n",
    "\n",
    "        # Compute directional derivative about u in the direction of du (Jacobian)\n",
    "        dF = derivative (R, variable, dvariable)\n",
    "        dummy = (inner (Constant (0.0), v1) + inner (Constant (0.0), v2) + inner (Constant (0.0), v3) + inner (Constant (0.0), v4))*dx # Alternative 2\n",
    "\n",
    "        # Assemble stiffness form\n",
    "        A_stiffness = PETScMatrix () # Alternative 1, # Alternative 2\n",
    "        b_stiffness = PETScVector () # Alternative 2\n",
    "\n",
    "        # Assemble system\n",
    "        # bcs = [] # Alternative 2\n",
    "        # A_ufl, _ = assemble_system (dF, dummy, bcs = bcs, A_tensor = A_stiffness, b_tensor = b_stiffness) # Alternative 2\n",
    "        A_ufl = assemble (dF, tensor = A_stiffness) # Alternative 1\n",
    "\n",
    "        # Matrix A1\n",
    "        A_array = matrix (A_ufl.array ())\n",
    "\n",
    "        # Condition number\n",
    "        condnumber = LA.cond (A_array)\n",
    "        print (\"Condition number:\", condnumber)\n",
    "\n",
    "        Real, Imag = solver_stiffness (A_ufl)\n",
    "        # Real, Imag = stability_function_A (A_array)\n",
    "\n",
    "        return Real, Imag, A_ufl, A_array"
   ]
  },
  {
   "cell_type": "markdown",
   "metadata": {},
   "source": [
    "> Eigenvalue function of a sparse matrix"
   ]
  },
  {
   "cell_type": "code",
   "execution_count": null,
   "metadata": {},
   "outputs": [],
   "source": [
    "def eigenvalue_function (Beval):\n",
    "    m1, _ = eigs (Beval)\n",
    "\n",
    "    listreal1 = []\n",
    "    listimag1 = []\n",
    "\n",
    "    for l1 in range (len (m1)):\n",
    "        realpart1 = m1 [l1].real\n",
    "        imagpart1 = m1 [l1].imag\n",
    "        \n",
    "        listimag1.append (imagpart1)\n",
    "        listreal1.append (realpart1)\n",
    "\n",
    "    maxchar = max (listreal1)\n",
    "\n",
    "    return listreal1, listimag1, maxchar"
   ]
  },
  {
   "cell_type": "markdown",
   "metadata": {},
   "source": [
    "> Eigenvalues of the stiffness matrix"
   ]
  },
  {
   "cell_type": "code",
   "execution_count": null,
   "metadata": {},
   "outputs": [],
   "source": [
    "# listreal1, listimag1, maxchar = eigenvalue_function (A_sparray)\n",
    "\n",
    "# #################### Plot convective waves\n",
    "# plt.figure ()\n",
    "# fig, ax = plt.subplots ()\n",
    "# ax.scatter (listreal1, \n",
    "#             listimag1, \n",
    "#             s = area_scatter, \n",
    "#             marker = listmarkers [0], \n",
    "#             color = listcolor [4], \n",
    "#             edgecolors = listcolor [0], \n",
    "#             linewidths = line_width, \n",
    "#             alpha = alphascatter)\n",
    "\n",
    "# # plt.rcParams ['figure.figsize'] = mapsize\n",
    "# # leg1 = ax.legend (loc = 'upper right', frameon = True, fontsize = 14);\n",
    "# plt.grid (True, which = \"both\")\n",
    "# plt.xlabel (r'Re ($\\mu$) $[\\it{s^{-1}}]$', fontsize = label_size)\n",
    "# plt.ylabel (r'Im ($\\mu$) $[\\it{s^{-1}}]$', fontsize = label_size)\n",
    "# # plt.xlim (-0.08, 0.02)\n",
    "# # plt.ylim (-30, 30)\n",
    "# matplotlib.rc ('xtick', labelsize = label_size)     \n",
    "# matplotlib.rc ('ytick', labelsize = label_size)\n",
    "\n",
    "# plt.axvline (0, label = 'pyplot vertical line', color = 'k')\n",
    "\n",
    "# # Save figure\n",
    "# # fig.set_size_inches (mapsize)\n",
    "# # plt.savefig('figures/semi_disc/fig3.pdf',\n",
    "# #             optimize = True,\n",
    "# #             transparent = True,  \n",
    "# #             dpi = dpi_elsevier)\n",
    "\n",
    "# # Show figure\n",
    "# plt.show\n",
    "\n",
    "# print(maxchar)"
   ]
  }
 ],
 "metadata": {
  "language_info": {
   "codemirror_mode": {
    "name": "ipython",
    "version": 3
   },
   "file_extension": ".py",
   "mimetype": "text/x-python",
   "name": "python",
   "nbconvert_exporter": "python",
   "pygments_lexer": "ipython3",
   "version": 3
  },
  "orig_nbformat": 2
 },
 "nbformat": 4,
 "nbformat_minor": 2
}
