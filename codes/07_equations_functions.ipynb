{
 "cells": [
  {
   "cell_type": "markdown",
   "metadata": {},
   "source": [
    "## Previous operations and functions"
   ]
  },
  {
   "cell_type": "code",
   "execution_count": null,
   "metadata": {},
   "outputs": [],
   "source": [
    "# Geometry\n",
    "A = pi*pow (D, 2.)/4. # mˆ2, total area\n",
    "p_factor = 1/c_g**2 \n",
    "\n",
    "# Test points beta\n",
    "testpointsbeta = len (betavector)\n",
    "\n",
    "# Scatter of test cases in maps\n",
    "testpointsj_l_scatter = len (j_lscatter)\n",
    "testpointsj_g_scatter = len (j_gscatter)"
   ]
  },
  {
   "cell_type": "markdown",
   "metadata": {},
   "source": [
    "## Functions\n",
    "\n",
    "> Geometry"
   ]
  },
  {
   "cell_type": "code",
   "execution_count": null,
   "metadata": {},
   "outputs": [],
   "source": [
    "# liquid sectional area\n",
    "def A_l (var1):\n",
    "    return A*var1\n",
    "\n",
    "# gas sectional area\n",
    "def A_g (var1):\n",
    "    return A*(1 - var1)\n",
    "\n",
    "# stratification angle\n",
    "def gamma (var1):\n",
    "    # return pi*(var1) + pow ((3.*pi/2.), (1./3.))*(1 - 2*(var1) + pow (abs (var1), (1./3.)) - pow (abs(1 - (var1)), (1/3))) - (1/200)*(1 - (var1))*(var1)*(1 - 2*(var1))*(1+4*((1 - (var1))**2 + (var1)**2))\n",
    "    # return pi*var1 + pow ((3.*pi/2.), (1./3.))*(1 - 2*var1 + pow (abs (var1), (1./3.)) - pow (abs(1 - var1), (1/3))) - (1/200)*(1-var1)*var1*(1 - 2*var1)*(1+4*((1-var1)**2+(var1)**2))\n",
    "    return pi*var1 + ((3*pi/2)**(1/3))*(1 - 2*var1 + ( abs(var1 + DOLFIN_EPS)**(1/3)) - (abs(1 - (var1))**(1/3))) - (1/200)*(1 - var1)*var1*(1 - 2*var1)*(1 + 4*((1-var1)**2 + (var1)**2))\n",
    "\n",
    "def gamma_fenics (var1):\n",
    "    return pi*var1 + ((3*pi/2)**(1/3))*(1 - 2*var1 + ( abs(var1 + DOLFIN_EPS)**(1/3)) - (abs(1 - (var1 + DOLFIN_EPS))**(1/3))) - (1/200)*(1 - var1)*var1*(1 - 2*var1)*(1 + 4*((1-var1)**2 + (var1)**2))\n",
    "\n",
    "# liquid wetted perimeter\n",
    "def P_lw (var1):\n",
    "    return D*gamma (var1)\n",
    "\n",
    "# gas wetted perimeter\n",
    "def P_gw (var1):\n",
    "    return D*(pi - gamma (var1))\n",
    "\n",
    "# interface wetted perimeter\n",
    "def P_gl (var1):\n",
    "    return D*np.sin (gamma (var1))\n",
    "# interface wetted perimeter\n",
    "def P_gl_fenics (var1):\n",
    "    return D*sin (gamma (var1))\n",
    "\n",
    "# critic diameter\n",
    "def Dc (var1):\n",
    "    return g*np.cos (beta)*pi*D/(4*np.sin (gamma (var1)))\n",
    "def Dc_fenics (var1):\n",
    "    return g*cos (beta)*pi*D/(4*sin (gamma (var1)))\n",
    "\n",
    "# liquid hydraulic diameter \n",
    "def Dh_l (var1):\n",
    "    return 4.*A_l (var1)/P_lw (var1)\n",
    "\n",
    "# gas hydraulic diameter \n",
    "def Dh_g (var1):\n",
    "    return 4.*A_g (var1)/(P_gw (var1) + P_gl (var1))\n",
    "def Dh_g_fenics (var1):\n",
    "    return 4.*A_g (var1)/(P_gw (var1) + P_gl_fenics (var1))"
   ]
  },
  {
   "cell_type": "markdown",
   "metadata": {},
   "source": [
    "> Fluid properties"
   ]
  },
  {
   "cell_type": "code",
   "execution_count": null,
   "metadata": {},
   "outputs": [],
   "source": [
    "#Gas density\n",
    "def rho_g (var4):\n",
    "    return p_factor*var4 + DOLFIN_EPS"
   ]
  },
  {
   "cell_type": "markdown",
   "metadata": {},
   "source": [
    "> Flow properties"
   ]
  },
  {
   "cell_type": "code",
   "execution_count": null,
   "metadata": {},
   "outputs": [],
   "source": [
    "# liquid phase velocity\n",
    "def var2 (var1):\n",
    "    return j_l/(var1)\n",
    "    \n",
    "# gas phase velocity\n",
    "def var3 (var1):\n",
    "    return j_g/(1 - var1)"
   ]
  },
  {
   "cell_type": "markdown",
   "metadata": {},
   "source": [
    "> Friction"
   ]
  },
  {
   "cell_type": "code",
   "execution_count": null,
   "metadata": {},
   "outputs": [],
   "source": [
    "# liquid Reynolds number\n",
    "def Re_l (var1, var2):\n",
    "    return rho_l*var2*Dh_l (var1)/mu_l\n",
    "\n",
    "# gas Reynolds number\n",
    "def Re_g (var1, var3, var4):\n",
    "    return rho_g (var4)*var3*Dh_g (var1)/mu_g\n",
    "def Re_g_fenics (var1, var3, var4):\n",
    "    return rho_g (var4)*var3*Dh_g_fenics (var1)/mu_g\n",
    "\n",
    "# Friction factor liquid-wall\n",
    "def f_lw (var1, var2):\n",
    "    return 0.046*abs(Re_l (var1, var2) + DOLFIN_EPS)**(-0.2)\n",
    "\n",
    "# # Friction factor liquid-wall (laminar)\n",
    "# def f_lw_laminar (var1, var2):\n",
    "#     return 24/Re_l (var1, var2)\n",
    "# def f_lw_laminar_fenics (var1, var2):\n",
    "#     return 24/Re_l (var1, var2)\n",
    "    \n",
    "# Friction factor gas-wall\n",
    "def f_gw (var1, var3, var4):\n",
    "    return 0.046*abs(Re_g (var1, var3, var4) + DOLFIN_EPS)**(-0.2)\n",
    "def f_gw_fenics (var1, var3, var4):\n",
    "    return 0.046*abs(Re_g_fenics (var1, var3, var4) + DOLFIN_EPS)**(-0.2)\n",
    "\n",
    "# # Friction factor gas-wall (laminar)\n",
    "# def f_gw_laminar (var1, var3, var4):\n",
    "#     return 16 / Re_g (var1, var3, var4)\n",
    "# def f_gw_laminar_fenics (var1, var3, var4):\n",
    "#     return 16 / Re_g_fenics (var1, var3, var4)\n",
    "\n",
    "# interfacial friction\n",
    "def f_gl (var1, var2, var3, var4):\n",
    "    return max (f_gw (var1, var3, var4), 0.014)\n",
    "def f_gl_fenics (var1, var2, var3, var4):\n",
    "    return Max (f_gw_fenics (var1, var3, var4), 0.014)\n",
    "\n",
    "# Shear stress liquid-wall\n",
    "def tau_lw (var1, var2):\n",
    "    return 1/2*f_lw (var1, var2)*rho_l*var2*var2\n",
    "\n",
    "# gas shear stress\n",
    "def tau_gw (var1, var3, var4):\n",
    "    return 1/2*f_gw (var1, var3, var4)*rho_g (var4)*var3*abs (var3)\n",
    "def tau_gw_fenics (var1, var3, var4):\n",
    "    return 1/2*f_gw_fenics (var1, var3, var4)*rho_g (var4)*var3*abs (var3)\n",
    "\n",
    "# interface shear stress l\n",
    "def tau_gl (var1, var2, var3, var4):\n",
    "    return 1/2*f_gl(var1, var2, var3, var4)*rho_g (var4)*(var3 - var2)*abs (var3 - var2)\n",
    "def tau_gl_fenics (var1, var2, var3, var4):\n",
    "    return 1/2*f_gl_fenics (var1, var2, var3, var4)*rho_g (var4)*(var3 - var2)*abs (var3 - var2)"
   ]
  },
  {
   "cell_type": "markdown",
   "metadata": {},
   "source": [
    "> Stratified flow"
   ]
  },
  {
   "cell_type": "code",
   "execution_count": null,
   "metadata": {},
   "outputs": [],
   "source": [
    "# Equilibrium\n",
    "def equilibrium1 (var1):\n",
    "    return (rho_g (var4_0) - rho_l)*g*np.sin (beta) - tau_lw (var1, var2 (var1))*P_lw (var1)/A_l (var1) + tau_gw (var1, var3 (var1), var4_0)*P_gw (var1)/A_g (var1) + tau_gl (var1, var2 (var1), var3 (var1), var4_0)*P_gl (var1)*(1/A_l (var1) + 1/A_g (var1))"
   ]
  },
  {
   "cell_type": "markdown",
   "metadata": {},
   "source": [
    "> Functions for reference using j_l"
   ]
  },
  {
   "cell_type": "code",
   "execution_count": null,
   "metadata": {},
   "outputs": [],
   "source": [
    "# liquid phase velocity\n",
    "def var2b (j_l):\n",
    "    return j_l/(var1)\n",
    "# Equilibrium\n",
    "def equilibrium2 (j_l):  \n",
    "    return (rho_g (var4_0) - rho_l)*g*np.sin (beta) - tau_lw (var1, var2b (j_l))*P_lw (var1)/A_l (var1) + tau_gw (var1, var3 (var1), var4_0)*P_gw (var1)/A_g (var1) + tau_gl (var1, var2b (j_l), var3 (var1), var4_0)*P_gl (var1)*(1/A_l (var1) + 1/A_g (var1))"
   ]
  },
  {
   "cell_type": "markdown",
   "metadata": {},
   "source": [
    "# 2. Reference state functions\n",
    "\n",
    "> Find var1 with given j_l and j_g\n"
   ]
  },
  {
   "cell_type": "code",
   "execution_count": null,
   "metadata": {},
   "outputs": [],
   "source": [
    "def ref_state (j_l, j_g, var4_0, beta, rho_l, p_factor, mu_l, mu_g, D):\n",
    "    # Reference state\n",
    "    var1_ref = brenth (equilibrium1, lima, limb)\n",
    "    var2_ref = j_l/var1_ref\n",
    "    var3_ref = j_g/(1 - var1_ref)\n",
    "    var4_ref = var4_0\n",
    "    \n",
    "    # Reference conditions\n",
    "    ref = np.array ([var1_ref, var2_ref, var3_ref, var4_ref])\n",
    "    \n",
    "    # Reynolds number of initial conditions\n",
    "    Rel_ref = Re_l (ref[0], ref[1])\n",
    "    Reg_ref = Re_g (ref[0], ref[2], ref[3])\n",
    "\n",
    "    # Reynolds reference conditions\n",
    "    Re_ref = np.array ([Rel_ref, Reg_ref])\n",
    "\n",
    "    return ref, Re_ref"
   ]
  },
  {
   "cell_type": "markdown",
   "metadata": {},
   "source": [
    "> Find j_l with given alpha_l"
   ]
  },
  {
   "cell_type": "code",
   "execution_count": null,
   "metadata": {},
   "outputs": [],
   "source": [
    "def ref_state_jl (var1, j_g, var4_0, beta, rho_l, p_factor, mu_l, mu_g, D):\n",
    "    # Define j_l\n",
    "    j_l = fsolve (equilibrium2, x0)   \n",
    "\n",
    "    # Reference state\n",
    "    var1_ref = var1\n",
    "    var2_ref = j_l[0]/var1_ref\n",
    "    var3_ref = j_g/(1 - var1_ref)\n",
    "    var4_ref = var4_0\n",
    "\n",
    "    # Reference conditions\n",
    "    ref = np.array ([var1_ref, var2_ref, var3_ref, var4_ref])\n",
    "    return ref"
   ]
  }
 ],
 "metadata": {
  "kernelspec": {
   "display_name": "Python 3.10.4 ('fenicsproject')",
   "language": "python",
   "name": "python3"
  },
  "language_info": {
   "codemirror_mode": {
    "name": "ipython",
    "version": 3
   },
   "file_extension": ".py",
   "mimetype": "text/x-python",
   "name": "python",
   "nbconvert_exporter": "python",
   "pygments_lexer": "ipython3",
   "version": "3.10.4"
  },
  "metadata": {
   "interpreter": {
    "hash": "dca0ade3e726a953b501b15e8e990130d2b7799f14cfd9f4271676035ebe5511"
   }
  },
  "orig_nbformat": 2,
  "vscode": {
   "interpreter": {
    "hash": "f08b6c28c62360a1be9767a5d24832688bd09b1b5f8a643b5ea5d5515c7fee5b"
   }
  }
 },
 "nbformat": 4,
 "nbformat_minor": 2
}
