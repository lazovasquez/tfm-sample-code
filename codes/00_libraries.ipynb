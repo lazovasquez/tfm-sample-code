{
 "cells": [
  {
   "cell_type": "markdown",
   "metadata": {},
   "source": [
    "## Libraries\n",
    "> Import libraries"
   ]
  },
  {
   "cell_type": "code",
   "execution_count": null,
   "metadata": {},
   "outputs": [],
   "source": [
    "#!/usr/bin/env python3\n",
    "\n",
    "from fenics import *\n",
    "from IPython.display import clear_output  \n",
    "from math import pi\n",
    "from matplotlib import (rc, style)\n",
    "from matplotlib.ticker import (MultipleLocator, FormatStrFormatter, AutoMinorLocator)\n",
    "from mpl_toolkits.mplot3d import Axes3D\n",
    "from numpy import linalg as LA\n",
    "from scipy import (linalg, matrix, sparse)\n",
    "from scipy.interpolate import interp1d\n",
    "from scipy.linalg import (eigvals, eig)\n",
    "from scipy.misc import derivative as dtv\n",
    "from scipy.optimize import (brenth, fsolve)\n",
    "from scipy.sparse.linalg import eigs\n",
    "from scipy.sparse import csr_matrix\n",
    "\n",
    "import math\n",
    "import matplotlib\n",
    "import matplotlib.font_manager\n",
    "import matplotlib.pyplot as plt\n",
    "import matplotlib.ticker as mtick\n",
    "import numpy as np\n",
    "import pprint\n",
    "import scipy.signal\n",
    "import time\n",
    "import ufl"
   ]
  },
  {
   "cell_type": "code",
   "execution_count": null,
   "metadata": {},
   "outputs": [],
   "source": []
  }
 ],
 "metadata": {
  "kernelspec": {
   "display_name": "Python 3.10.4 ('fenicsproject')",
   "language": "python",
   "name": "python3"
  },
  "language_info": {
   "codemirror_mode": {
    "name": "ipython",
    "version": 3
   },
   "file_extension": ".py",
   "mimetype": "text/x-python",
   "name": "python",
   "nbconvert_exporter": "python",
   "pygments_lexer": "ipython3",
   "version": "3.10.4"
  },
  "metadata": {
   "interpreter": {
    "hash": "38da386f580614e4c6a85824bff41beb4ebd8d62055fe5e2510efbe524b5bbb7"
   }
  },
  "orig_nbformat": 2,
  "vscode": {
   "interpreter": {
    "hash": "f08b6c28c62360a1be9767a5d24832688bd09b1b5f8a643b5ea5d5515c7fee5b"
   }
  }
 },
 "nbformat": 4,
 "nbformat_minor": 2
}
