{
 "cells": [
  {
   "cell_type": "markdown",
   "metadata": {},
   "source": [
    "## Libraries\n",
    "> Import libraries"
   ]
  },
  {
   "cell_type": "code",
   "execution_count": 2,
   "metadata": {},
   "outputs": [
    {
     "ename": "RuntimeError",
     "evalue": "Could not find DOLFIN pkg-config file. Please make sure appropriate paths are set.",
     "output_type": "error",
     "traceback": [
      "\u001b[0;31m---------------------------------------------------------------------------\u001b[0m",
      "\u001b[0;31mRuntimeError\u001b[0m                              Traceback (most recent call last)",
      "Cell \u001b[0;32mIn[2], line 3\u001b[0m\n\u001b[1;32m      1\u001b[0m \u001b[39m#!/usr/bin/env python3\u001b[39;00m\n\u001b[0;32m----> 3\u001b[0m \u001b[39mfrom\u001b[39;00m \u001b[39mfenics\u001b[39;00m \u001b[39mimport\u001b[39;00m \u001b[39m*\u001b[39m\n\u001b[1;32m      4\u001b[0m \u001b[39mfrom\u001b[39;00m \u001b[39mIPython\u001b[39;00m\u001b[39m.\u001b[39;00m\u001b[39mdisplay\u001b[39;00m \u001b[39mimport\u001b[39;00m clear_output  \n\u001b[1;32m      5\u001b[0m \u001b[39mfrom\u001b[39;00m \u001b[39mmath\u001b[39;00m \u001b[39mimport\u001b[39;00m pi\n",
      "File \u001b[0;32m~/opt/anaconda3/envs/fenicsproject/lib/python3.11/site-packages/fenics/__init__.py:7\u001b[0m\n\u001b[1;32m      1\u001b[0m \u001b[39m# -*- coding: utf-8 -*-\u001b[39;00m\n\u001b[1;32m      2\u001b[0m \u001b[39m\"\"\"Main module for FEniCS.\u001b[39;00m\n\u001b[1;32m      3\u001b[0m \n\u001b[1;32m      4\u001b[0m \u001b[39mThis module is identical with the main DOLFIN module.\u001b[39;00m\n\u001b[1;32m      5\u001b[0m \u001b[39m\"\"\"\u001b[39;00m\n\u001b[0;32m----> 7\u001b[0m \u001b[39mfrom\u001b[39;00m \u001b[39mdolfin\u001b[39;00m \u001b[39mimport\u001b[39;00m \u001b[39m*\u001b[39m\n",
      "File \u001b[0;32m~/opt/anaconda3/envs/fenicsproject/lib/python3.11/site-packages/dolfin/__init__.py:142\u001b[0m\n\u001b[1;32m    139\u001b[0m \u001b[39mfrom\u001b[39;00m \u001b[39m.\u001b[39;00m\u001b[39mcommon\u001b[39;00m\u001b[39m.\u001b[39;00m\u001b[39mtimer\u001b[39;00m \u001b[39mimport\u001b[39;00m Timer, timed\n\u001b[1;32m    140\u001b[0m \u001b[39mfrom\u001b[39;00m \u001b[39m.\u001b[39;00m\u001b[39mcommon\u001b[39;00m\u001b[39m.\u001b[39;00m\u001b[39mplotting\u001b[39;00m \u001b[39mimport\u001b[39;00m plot\n\u001b[0;32m--> 142\u001b[0m \u001b[39mfrom\u001b[39;00m \u001b[39m.\u001b[39;00m\u001b[39mfem\u001b[39;00m\u001b[39m.\u001b[39;00m\u001b[39massembling\u001b[39;00m \u001b[39mimport\u001b[39;00m (assemble, assemble_system, assemble_multimesh,\n\u001b[1;32m    143\u001b[0m                              SystemAssembler, assemble_local)\n\u001b[1;32m    144\u001b[0m \u001b[39mfrom\u001b[39;00m \u001b[39m.\u001b[39;00m\u001b[39mfem\u001b[39;00m\u001b[39m.\u001b[39;00m\u001b[39mform\u001b[39;00m \u001b[39mimport\u001b[39;00m Form\n\u001b[1;32m    145\u001b[0m \u001b[39mfrom\u001b[39;00m \u001b[39m.\u001b[39;00m\u001b[39mfem\u001b[39;00m\u001b[39m.\u001b[39;00m\u001b[39mnorms\u001b[39;00m \u001b[39mimport\u001b[39;00m norm, errornorm\n",
      "File \u001b[0;32m~/opt/anaconda3/envs/fenicsproject/lib/python3.11/site-packages/dolfin/fem/assembling.py:34\u001b[0m\n\u001b[1;32m     32\u001b[0m \u001b[39mimport\u001b[39;00m \u001b[39mufl\u001b[39;00m\n\u001b[1;32m     33\u001b[0m \u001b[39mimport\u001b[39;00m \u001b[39mdolfin\u001b[39;00m\u001b[39m.\u001b[39;00m\u001b[39mcpp\u001b[39;00m \u001b[39mas\u001b[39;00m \u001b[39mcpp\u001b[39;00m\n\u001b[0;32m---> 34\u001b[0m \u001b[39mfrom\u001b[39;00m \u001b[39mdolfin\u001b[39;00m\u001b[39m.\u001b[39;00m\u001b[39mfem\u001b[39;00m\u001b[39m.\u001b[39;00m\u001b[39mform\u001b[39;00m \u001b[39mimport\u001b[39;00m Form\n\u001b[1;32m     35\u001b[0m \u001b[39mfrom\u001b[39;00m \u001b[39mdolfin\u001b[39;00m \u001b[39mimport\u001b[39;00m MPI\n\u001b[1;32m     36\u001b[0m \u001b[39mfrom\u001b[39;00m \u001b[39mdolfin\u001b[39;00m\u001b[39m.\u001b[39;00m\u001b[39mfunction\u001b[39;00m\u001b[39m.\u001b[39;00m\u001b[39mmultimeshfunction\u001b[39;00m \u001b[39mimport\u001b[39;00m MultiMeshFunction\n",
      "File \u001b[0;32m~/opt/anaconda3/envs/fenicsproject/lib/python3.11/site-packages/dolfin/fem/form.py:12\u001b[0m\n\u001b[1;32m     10\u001b[0m \u001b[39mimport\u001b[39;00m \u001b[39mufl\u001b[39;00m\n\u001b[1;32m     11\u001b[0m \u001b[39mimport\u001b[39;00m \u001b[39mdolfin\u001b[39;00m\u001b[39m.\u001b[39;00m\u001b[39mcpp\u001b[39;00m \u001b[39mas\u001b[39;00m \u001b[39mcpp\u001b[39;00m\n\u001b[0;32m---> 12\u001b[0m \u001b[39mfrom\u001b[39;00m \u001b[39mdolfin\u001b[39;00m\u001b[39m.\u001b[39;00m\u001b[39mjit\u001b[39;00m\u001b[39m.\u001b[39;00m\u001b[39mjit\u001b[39;00m \u001b[39mimport\u001b[39;00m dolfin_pc, ffc_jit\n\u001b[1;32m     15\u001b[0m \u001b[39mclass\u001b[39;00m \u001b[39mForm\u001b[39;00m(cpp\u001b[39m.\u001b[39mfem\u001b[39m.\u001b[39mForm):\n\u001b[1;32m     16\u001b[0m     \u001b[39mdef\u001b[39;00m \u001b[39m__init__\u001b[39m(\u001b[39mself\u001b[39m, form, \u001b[39m*\u001b[39m\u001b[39m*\u001b[39mkwargs):\n\u001b[1;32m     17\u001b[0m \n\u001b[1;32m     18\u001b[0m         \u001b[39m# Check form argument\u001b[39;00m\n",
      "File \u001b[0;32m~/opt/anaconda3/envs/fenicsproject/lib/python3.11/site-packages/dolfin/jit/jit.py:18\u001b[0m\n\u001b[1;32m     16\u001b[0m     dolfin_pc \u001b[39m=\u001b[39m pkgconfig\u001b[39m.\u001b[39mparse(\u001b[39m\"\u001b[39m\u001b[39mdolfin\u001b[39m\u001b[39m\"\u001b[39m)\n\u001b[1;32m     17\u001b[0m \u001b[39melse\u001b[39;00m:\n\u001b[0;32m---> 18\u001b[0m     \u001b[39mraise\u001b[39;00m \u001b[39mRuntimeError\u001b[39;00m(\u001b[39m\"\u001b[39m\u001b[39mCould not find DOLFIN pkg-config file. Please make sure appropriate paths are set.\u001b[39m\u001b[39m\"\u001b[39m)\n\u001b[1;32m     21\u001b[0m \u001b[39m# Copied over from site-packages\u001b[39;00m\n\u001b[1;32m     22\u001b[0m \u001b[39mdef\u001b[39;00m \u001b[39mmpi_jit_decorator\u001b[39m(local_jit, \u001b[39m*\u001b[39margs, \u001b[39m*\u001b[39m\u001b[39m*\u001b[39mkwargs):\n",
      "\u001b[0;31mRuntimeError\u001b[0m: Could not find DOLFIN pkg-config file. Please make sure appropriate paths are set."
     ]
    }
   ],
   "source": [
    "#!/usr/bin/env python3\n",
    "\n",
    "from fenics import *\n",
    "from IPython.display import clear_output  \n",
    "from math import pi\n",
    "from matplotlib import (rc, style)\n",
    "from matplotlib.ticker import (MultipleLocator, FormatStrFormatter, AutoMinorLocator)\n",
    "from mpl_toolkits.mplot3d import Axes3D\n",
    "from numpy import linalg as LA\n",
    "from scipy import (linalg, matrix, sparse)\n",
    "from scipy.interpolate import interp1d\n",
    "from scipy.linalg import (eigvals, eig)\n",
    "from scipy.misc import derivative as dtv\n",
    "from scipy.optimize import (brenth, fsolve)\n",
    "from scipy.sparse.linalg import eigs\n",
    "from scipy.sparse import csr_matrix\n",
    "\n",
    "import math\n",
    "import matplotlib\n",
    "import matplotlib.font_manager\n",
    "import matplotlib.pyplot as plt\n",
    "import matplotlib.ticker as mtick\n",
    "import numpy as np\n",
    "import pprint\n",
    "import scipy.signal\n",
    "import time\n",
    "import ufl"
   ]
  },
  {
   "cell_type": "code",
   "execution_count": null,
   "metadata": {},
   "outputs": [],
   "source": []
  }
 ],
 "metadata": {
  "kernelspec": {
   "display_name": "fenicsproject",
   "language": "python",
   "name": "python3"
  },
  "language_info": {
   "codemirror_mode": {
    "name": "ipython",
    "version": 3
   },
   "file_extension": ".py",
   "mimetype": "text/x-python",
   "name": "python",
   "nbconvert_exporter": "python",
   "pygments_lexer": "ipython3",
   "version": "3.11.0"
  },
  "metadata": {
   "interpreter": {
    "hash": "38da386f580614e4c6a85824bff41beb4ebd8d62055fe5e2510efbe524b5bbb7"
   }
  },
  "orig_nbformat": 2,
  "vscode": {
   "interpreter": {
    "hash": "f08b6c28c62360a1be9767a5d24832688bd09b1b5f8a643b5ea5d5515c7fee5b"
   }
  }
 },
 "nbformat": 4,
 "nbformat_minor": 2
}
